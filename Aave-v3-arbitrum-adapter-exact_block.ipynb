{
 "cells": [
  {
   "cell_type": "markdown",
   "id": "d12d603e-8d93-4584-8ac6-4a949e8a51cf",
   "metadata": {},
   "source": [
    "## Import libraries"
   ]
  },
  {
   "cell_type": "code",
   "execution_count": 1,
   "id": "e2f29cea-3047-496d-a333-f6a89ecfe84b",
   "metadata": {},
   "outputs": [],
   "source": [
    "import requests\n",
    "import pandas as pd\n",
    "from datetime import datetime, timedelta, timezone"
   ]
  },
  {
   "cell_type": "markdown",
   "id": "df6b6a50-3d77-4239-bf7e-64c214f1c1e8",
   "metadata": {},
   "source": [
    "## Connect Subgraph\n",
    "1. Define URL: \"https://api.studio.thegraph.com/query/75401/aave-v3-arbitrum-project/version/latest\"\n",
    "2. Define run_query function"
   ]
  },
  {
   "cell_type": "code",
   "execution_count": 2,
   "id": "865cabd9-617e-48d1-96d6-87028311768f",
   "metadata": {},
   "outputs": [],
   "source": [
    "# Define the GraphQL endpoint\n",
    "SUBGRAPH_URL = \"https://api.studio.thegraph.com/query/75401/aave-v3-arbitrum-project/version/latest\"\n"
   ]
  },
  {
   "cell_type": "code",
   "execution_count": 3,
   "id": "b5e51352-5222-4d8b-9a7d-88df38f0b7a7",
   "metadata": {},
   "outputs": [],
   "source": [
    "# Function to run a query\n",
    "def run_query(query):\n",
    "    response = requests.post(SUBGRAPH_URL, json={'query': query})\n",
    "    if response.status_code == 200:\n",
    "        return response.json()\n",
    "    else:\n",
    "        raise Exception(f'Query failed. Return code is {response.status_code}. {query}')\n"
   ]
  },
  {
   "cell_type": "markdown",
   "id": "89188732-5937-431a-8815-9314eb7f41eb",
   "metadata": {},
   "source": [
    "## Locate Block Number: \n",
    "1. Define function to get the last block of every hour, from `Start Time` to `End Time`\n",
    "2. Given block `Start time` and `End Time` at the hour marker (00:00) in UTC\n"
   ]
  },
  {
   "cell_type": "code",
   "execution_count": 4,
   "id": "2469c7b1-4122-43a9-aa82-7fc7d6c1429f",
   "metadata": {},
   "outputs": [],
   "source": [
    "# Function to get the closest blocks for every hour within a datetime range\n",
    "def get_closest_block_of_every_hour(start_time, end_time):\n",
    "    current_time = start_time\n",
    "    blocks = []\n",
    "\n",
    "    while current_time <= end_time:\n",
    "        query = f\"\"\"\n",
    "        {{\n",
    "          blocks(first: 1, orderBy: timestamp, orderDirection: desc, where: {{timestamp_lte: \"{int(current_time.timestamp())}\"}}) {{\n",
    "            number\n",
    "            timestamp\n",
    "          }}\n",
    "        }}\n",
    "        \"\"\"\n",
    "        result = run_query(query)\n",
    "        if 'errors' in result:\n",
    "            raise Exception(f\"GraphQL query failed with errors: {result['errors']}\")\n",
    "        if 'data' in result and 'blocks' in result['data'] and result['data']['blocks']:\n",
    "            block = result['data']['blocks'][0]\n",
    "            block_info = {\n",
    "                'block_number': block['number'],\n",
    "                'timestamp': datetime.utcfromtimestamp(int(block['timestamp'])).strftime('%Y-%m-%d %H:%M:%S')\n",
    "            }\n",
    "            # Avoid duplicates\n",
    "            if not blocks or blocks[-1]['block_number'] != block_info['block_number']:\n",
    "                blocks.append(block_info)\n",
    "        current_time += timedelta(hours=1)\n",
    "\n",
    "    return pd.DataFrame(blocks)"
   ]
  },
  {
   "cell_type": "code",
   "execution_count": 5,
   "id": "102a735b-07b9-4f9e-96e2-03b9d4097839",
   "metadata": {},
   "outputs": [
    {
     "name": "stdout",
     "output_type": "stream",
     "text": [
      "  block_number            timestamp\n",
      "0     10206964  2022-04-20 18:59:29\n",
      "1     10209340  2022-04-20 19:59:39\n",
      "2     10211801  2022-04-20 20:59:53\n",
      "3     10214338  2022-04-20 21:59:07\n",
      "4     10216491  2022-04-20 22:58:55\n",
      "5     10219440  2022-04-20 23:58:32\n"
     ]
    }
   ],
   "source": [
    "# Determine the start time and end time at the hour marker (00:00) in UTC\n",
    "start_time = datetime(2022, 4, 20, 19, 0, tzinfo=timezone.utc)\n",
    "end_time = datetime(2022, 4, 21, 0, 0, tzinfo=timezone.utc)\n",
    "\n",
    "# Get closest blocks for start_time and end_time\n",
    "closest_blocks = get_closest_block_of_every_hour(start_time, end_time)\n",
    "print(closest_blocks)"
   ]
  },
  {
   "cell_type": "markdown",
   "id": "270ebd9f-eb70-4065-a12a-eee681990d97",
   "metadata": {},
   "source": [
    "##  Fetch the latest UserTokenSnapshots of the specific block\n",
    "1. Fetch the UserTokenSnapshots (max 5000 transactions) on the specific block (given `block_number`)\n",
    "2. Get the `distinct` UserTokenSnapshots from all latest UserTokenSnapshots\n",
    "3. Convert the data to a pandas DataFrame\n",
    "4. Save as CSV files"
   ]
  },
  {
   "cell_type": "code",
   "execution_count": 6,
   "id": "1236220e-13d6-47ab-bb7c-e6d44e5dac22",
   "metadata": {},
   "outputs": [],
   "source": [
    "# Given a specific block number\n",
    "block_number = 7998790"
   ]
  },
  {
   "cell_type": "code",
   "execution_count": 7,
   "id": "9eeb295f-a28b-4d13-807d-92120eb6d0e2",
   "metadata": {},
   "outputs": [],
   "source": [
    "# Define the GraphQL query function\n",
    "def get_latest_user_token_snapshots(block_number):\n",
    "    all_snapshots = []\n",
    "    has_more = True\n",
    "    skip = 0\n",
    "    first = 1000  # Number of results to fetch per request\n",
    "    max_skip = 5000  # Maximum value for skip\n",
    "\n",
    "    while has_more:\n",
    "        query = f\"\"\"\n",
    "        {{\n",
    "          userTokenSnapshots(\n",
    "            where: {{blockNumber: {block_number}}},\n",
    "            first: {first},\n",
    "            skip: {skip}\n",
    "          ) {{\n",
    "            id\n",
    "            userToken {{\n",
    "              id\n",
    "              user {{\n",
    "                id\n",
    "              }}\n",
    "              token {{\n",
    "                id\n",
    "                symbol\n",
    "                decimals\n",
    "              }}\n",
    "            }}\n",
    "            event\n",
    "            totalSupplied\n",
    "            totalBorrowed\n",
    "            netSupplied\n",
    "            blockNumber\n",
    "            blockTimestamp\n",
    "          }}\n",
    "        }}\n",
    "        \"\"\"\n",
    "        try:\n",
    "            result = run_query(query)\n",
    "            snapshots = result['data']['userTokenSnapshots']\n",
    "            if not snapshots:\n",
    "                print(f\"There is no Aave v3 Arbitrum transaction on the block number: {block_number}\")\n",
    "                break\n",
    "            else:\n",
    "                all_snapshots.extend(snapshots)\n",
    "                if len(snapshots) < first or skip + first >= max_skip:\n",
    "                    has_more = False\n",
    "                else:\n",
    "                    skip += first\n",
    "        except KeyError:\n",
    "            print(f\"There is no Aave v3 Arbitrum transaction on the block number: {block_number}\")\n",
    "            break\n",
    "        except Exception as e:\n",
    "            print(f\"An error occurred: {e}\")\n",
    "            break\n",
    "\n",
    "    return all_snapshots\n"
   ]
  },
  {
   "cell_type": "code",
   "execution_count": 8,
   "id": "8c08d98e-2eaa-4803-a93b-0804f396242f",
   "metadata": {},
   "outputs": [],
   "source": [
    "# Convert the data to a pandas DataFrame\n",
    "def snapshots_to_dataframe(snapshots):\n",
    "    data = []\n",
    "    if isinstance(snapshots, list) and snapshots:\n",
    "        for snapshot in snapshots:\n",
    "            user_token = snapshot['userToken']\n",
    "            data.append({\n",
    "                \"block_number\": snapshot['blockNumber'],\n",
    "                \"timestamp\": pd.to_datetime(int(snapshot['blockTimestamp']), unit='s'),\n",
    "                \"owner_address\": user_token['user']['id'],\n",
    "                \"token_symbol\": user_token['token']['symbol'],\n",
    "                \"token_address\": user_token['token']['id'],\n",
    "                \"token_amount\": int(snapshot['netSupplied'])/(10 ** user_token['token']['decimals']),\n",
    "                \"last_event\": snapshot['event'],\n",
    "                \"total_supply\": int(snapshot['totalSupplied'])/(10 ** user_token['token']['decimals']),\n",
    "                \"total_borrow\": int(snapshot['totalBorrowed'])/(10 ** user_token['token']['decimals'])\n",
    "            })\n",
    "        df = pd.DataFrame(data)\n",
    "        return df\n",
    "    else:\n",
    "        print(\"There is no Aave v3 Arbitrum transaction on the given block number\")\n",
    "        data.append({\n",
    "                \"block_number\": [],\n",
    "                \"timestamp\": [],\n",
    "                \"owner_address\": [],\n",
    "                \"token_symbol\": [],\n",
    "                \"token_address\": [],\n",
    "                \"token_amount\": [],\n",
    "                \"last_event\": [],\n",
    "                # \"total_supply\": [],\n",
    "                # \"total_borrow\": []\n",
    "            })\n",
    "        return pd.DataFrame(data)\n"
   ]
  },
  {
   "cell_type": "code",
   "execution_count": 9,
   "id": "f87e0e41-ad13-4f94-9534-bfea7ccb1904",
   "metadata": {},
   "outputs": [],
   "source": [
    "# Fetch the UserTokenSnapshots for each UserToken up to the specific block number\n",
    "latest_snapshots = get_latest_user_token_snapshots(block_number)"
   ]
  },
  {
   "cell_type": "code",
   "execution_count": 10,
   "id": "e520b769-2c4c-4562-b172-dd9b02bf7638",
   "metadata": {},
   "outputs": [
    {
     "data": {
      "text/html": [
       "<div>\n",
       "<style scoped>\n",
       "    .dataframe tbody tr th:only-of-type {\n",
       "        vertical-align: middle;\n",
       "    }\n",
       "\n",
       "    .dataframe tbody tr th {\n",
       "        vertical-align: top;\n",
       "    }\n",
       "\n",
       "    .dataframe thead th {\n",
       "        text-align: right;\n",
       "    }\n",
       "</style>\n",
       "<table border=\"1\" class=\"dataframe\">\n",
       "  <thead>\n",
       "    <tr style=\"text-align: right;\">\n",
       "      <th></th>\n",
       "      <th>block_number</th>\n",
       "      <th>timestamp</th>\n",
       "      <th>owner_address</th>\n",
       "      <th>token_symbol</th>\n",
       "      <th>token_address</th>\n",
       "      <th>token_amount</th>\n",
       "      <th>last_event</th>\n",
       "      <th>total_supply</th>\n",
       "      <th>total_borrow</th>\n",
       "    </tr>\n",
       "  </thead>\n",
       "  <tbody>\n",
       "    <tr>\n",
       "      <th>0</th>\n",
       "      <td>7998790</td>\n",
       "      <td>2022-03-16 16:11:13</td>\n",
       "      <td>0x17d4e25d083bcc954a4d1690902caf24d93e83f0</td>\n",
       "      <td>WETH</td>\n",
       "      <td>0x82af49447d8a07e3bd95bd0d56f35241523fbab1</td>\n",
       "      <td>0.01</td>\n",
       "      <td>Interest</td>\n",
       "      <td>0.01</td>\n",
       "      <td>0.0</td>\n",
       "    </tr>\n",
       "    <tr>\n",
       "      <th>1</th>\n",
       "      <td>7998790</td>\n",
       "      <td>2022-03-16 16:11:13</td>\n",
       "      <td>0x235d19279630c73680a55db20a31210603e785b3</td>\n",
       "      <td>WETH</td>\n",
       "      <td>0x82af49447d8a07e3bd95bd0d56f35241523fbab1</td>\n",
       "      <td>0.95</td>\n",
       "      <td>Supply</td>\n",
       "      <td>0.95</td>\n",
       "      <td>0.0</td>\n",
       "    </tr>\n",
       "  </tbody>\n",
       "</table>\n",
       "</div>"
      ],
      "text/plain": [
       "  block_number           timestamp  \\\n",
       "0      7998790 2022-03-16 16:11:13   \n",
       "1      7998790 2022-03-16 16:11:13   \n",
       "\n",
       "                                owner_address token_symbol  \\\n",
       "0  0x17d4e25d083bcc954a4d1690902caf24d93e83f0         WETH   \n",
       "1  0x235d19279630c73680a55db20a31210603e785b3         WETH   \n",
       "\n",
       "                                token_address  token_amount last_event  \\\n",
       "0  0x82af49447d8a07e3bd95bd0d56f35241523fbab1          0.01   Interest   \n",
       "1  0x82af49447d8a07e3bd95bd0d56f35241523fbab1          0.95     Supply   \n",
       "\n",
       "   total_supply  total_borrow  \n",
       "0          0.01           0.0  \n",
       "1          0.95           0.0  "
      ]
     },
     "execution_count": 10,
     "metadata": {},
     "output_type": "execute_result"
    }
   ],
   "source": [
    "# Convert to DataFrame\n",
    "df = snapshots_to_dataframe(latest_snapshots)\n",
    "df"
   ]
  },
  {
   "cell_type": "code",
   "execution_count": 11,
   "id": "67cd8d33-3c5e-4927-8a6d-79dc8192ca74",
   "metadata": {},
   "outputs": [],
   "source": [
    "# Save to CSV\n",
    "df.to_csv(\"user_token_snapshots_exact_block.csv\", index=False)s"
   ]
  }
 ],
 "metadata": {
  "kernelspec": {
   "display_name": "Python 3 (ipykernel)",
   "language": "python",
   "name": "python3"
  },
  "language_info": {
   "codemirror_mode": {
    "name": "ipython",
    "version": 3
   },
   "file_extension": ".py",
   "mimetype": "text/x-python",
   "name": "python",
   "nbconvert_exporter": "python",
   "pygments_lexer": "ipython3",
   "version": "3.11.5"
  }
 },
 "nbformat": 4,
 "nbformat_minor": 5
}
